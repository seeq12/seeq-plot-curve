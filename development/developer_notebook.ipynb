{
 "cells": [
  {
   "cell_type": "code",
   "execution_count": 1,
   "metadata": {
    "pycharm": {
     "name": "#%%\n"
    }
   },
   "outputs": [],
   "source": [
    "from seeq import spy\n",
    "from seeq.addons.plot_curve._add_on_main import PlotCurve\n",
    "from requests.utils import urlparse\n",
    "import ipywidgets as ipw\n",
    "from IPython.display import clear_output\n",
    "import ipyvuetify as vue"
   ]
  },
  {
   "cell_type": "code",
   "execution_count": 3,
   "metadata": {
    "pycharm": {
     "name": "#%%\n"
    }
   },
   "outputs": [
    {
     "data": {
      "text/latex": [
       "$\\displaystyle $"
      ]
     },
     "metadata": {},
     "output_type": "display_data"
    },
    {
     "data": {
      "application/vnd.jupyter.widget-view+json": {
       "model_id": "a9b6b5f25cfd4b9aa8226e09341c4ea1",
       "version_major": 2,
       "version_minor": 0
      },
      "text/plain": [
       "AppLayout(components={'Header': Header(template=Template(template='<template>\\n  <v-app-bar color=\"#007960\" da…"
      ]
     },
     "metadata": {},
     "output_type": "display_data"
    }
   ],
   "source": [
    "# Note : Before using this notebook, it should be copied to the root directory (where it will be ignored by git) \n",
    "\n",
    "username = 'youruser@seeq.copm'\n",
    "password = 'yourpassword'\n",
    "workbook_id = 'DFB2E7D6-C0DA-4BA5-B81C-119E014AB249 (your workbook id here)'\n",
    "worksheet_id = 'DFB2E7D6-C0DA-4BA5-B81C-119E014AB249 (your worksheet id here)'\n",
    "\n",
    "spy.login(username = username, password = password, quiet=True)"
   ]
  },
  {
   "cell_type": "code",
   "execution_count": null,
   "metadata": {},
   "outputs": [],
   "source": [
    "container = vue.Container(\n",
    "    children=[\n",
    "        vue.Container(children=['Please Wait While Plot Curve Loads']),\n",
    "        vue.ProgressLinear(indeterminate=True, height=10, color='#008a00')\n",
    "    ]\n",
    ")\n",
    "display(container)\n",
    "\n",
    "ui = PlotCurve(workbook = workbook_id, worksheet = worksheet_id)\n",
    "interface = ui.run()\n",
    "clear_output(wait=False)\n",
    "interface"
   ]
  }
 ],
 "metadata": {
  "kernelspec": {
   "display_name": "Python 3 (ipykernel)",
   "language": "python",
   "name": "python3"
  },
  "language_info": {
   "codemirror_mode": {
    "name": "ipython",
    "version": 3
   },
   "file_extension": ".py",
   "mimetype": "text/x-python",
   "name": "python",
   "nbconvert_exporter": "python",
   "pygments_lexer": "ipython3",
   "version": "3.7.8"
  },
  "varInspector": {
   "cols": {
    "lenName": 16,
    "lenType": 16,
    "lenVar": 40
   },
   "kernels_config": {
    "python": {
     "delete_cmd_postfix": "",
     "delete_cmd_prefix": "del ",
     "library": "var_list.py",
     "varRefreshCmd": "print(var_dic_list())"
    },
    "r": {
     "delete_cmd_postfix": ") ",
     "delete_cmd_prefix": "rm(",
     "library": "var_list.r",
     "varRefreshCmd": "cat(var_dic_list()) "
    }
   },
   "types_to_exclude": [
    "module",
    "function",
    "builtin_function_or_method",
    "instance",
    "_Feature"
   ],
   "window_display": false
  }
 },
 "nbformat": 4,
 "nbformat_minor": 1
}
