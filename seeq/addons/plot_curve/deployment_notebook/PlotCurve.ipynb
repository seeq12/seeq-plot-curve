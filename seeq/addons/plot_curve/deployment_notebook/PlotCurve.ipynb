{
 "cells": [
  {
   "cell_type": "code",
   "execution_count": null,
   "metadata": {},
   "outputs": [],
   "source": [
    "%%javascript\n",
    "$('#header-container').hide();"
   ]
  },
  {
   "cell_type": "code",
   "execution_count": null,
   "metadata": {},
   "outputs": [],
   "source": [
    "spy.options.compatibility = 189"
   ]
  },
  {
   "cell_type": "code",
   "execution_count": null,
   "metadata": {},
   "outputs": [],
   "source": [
    "from IPython.display import display, HTML\n",
    "display(HTML(\n",
    "    \"\"\"\n",
    "    <style>\n",
    "        #notebook { padding-top:0px !important; }\n",
    "        .container { width:100% !important; }\n",
    "        .end_space { min-height:0px !important; }\n",
    "        div.output_subarea.jupyter-widgets-view { max-width: 100%}\n",
    "    </style>\n",
    "    \n",
    "    \"\"\"\n",
    "))"
   ]
  },
  {
   "cell_type": "code",
   "execution_count": null,
   "metadata": {},
   "outputs": [],
   "source": [
    "from seeq import spy\n",
    "from requests.utils import urlparse\n",
    "from IPython.display import clear_output\n",
    "from seeq.addons.plot_curve._add_on_main import PlotCurve\n",
    "import ipyvuetify as vue\n",
    "\n",
    "import warnings\n",
    "warnings.simplefilter(action='ignore', category=FutureWarning)\n",
    "    \n",
    "parsed_url = urlparse(jupyter_notebook_url)\n",
    "\n",
    "try:\n",
    "    workbook_id = [uuid for uuid in parsed_url.query.split('&') if 'workbook' in uuid][0].strip('workbookId=')\n",
    "    worksheet_id = [uuid for uuid in parsed_url.query.split('&') if 'worksheet' in uuid][0].strip('worksheetId=')\n",
    "except IndexError:\n",
    "    print(IndexError)\n",
    "    workbook_id = None\n",
    "    worksheet_id = None\n"
   ]
  },
  {
   "cell_type": "code",
   "execution_count": null,
   "metadata": {},
   "outputs": [],
   "source": [
    "import ipyvuetify as vue\n",
    "container = vue.Container(\n",
    "    children=[\n",
    "        vue.Container(children=['Please Wait While Plot Curve Loads']),\n",
    "        vue.ProgressLinear(indeterminate=True, height=10, color='#008a00')\n",
    "    ]\n",
    ")\n",
    "display(container)\n",
    "\n",
    "ui = PlotCurve(workbook = workbook_id, worksheet = worksheet_id)\n",
    "interface = ui.run()\n",
    "clear_output(wait=False)\n",
    "interface"
   ]
  }
 ],
 "metadata": {
  "kernelspec": {
   "display_name": "Python 3.11",
   "language": "python",
   "name": "python311"
  },
  "language_info": {
   "codemirror_mode": {
    "name": "ipython",
    "version": 3
   },
   "file_extension": ".py",
   "mimetype": "text/x-python",
   "name": "python",
   "nbconvert_exporter": "python",
   "pygments_lexer": "ipython3",
   "version": "3.11.10"
  },
  "vscode": {
   "interpreter": {
    "hash": "e7c207caf9b590457ace0b0f60e7e8ad83edf286d9288e3e073e3aabb809ed74"
   }
  }
 },
 "nbformat": 4,
 "nbformat_minor": 4
}
