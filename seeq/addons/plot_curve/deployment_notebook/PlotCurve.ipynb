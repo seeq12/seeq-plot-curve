{
 "cells": [
  {
   "cell_type": "code",
   "execution_count": null,
   "metadata": {},
   "outputs": [],
   "source": [
    "%%javascript\n",
    "$('#header-container').hide();"
   ]
  },
  {
   "cell_type": "code",
   "execution_count": null,
   "metadata": {},
   "outputs": [],
   "source": [
    "from IPython.core.display import display, HTML\n",
    "display(HTML(\n",
    "    \"\"\"\n",
    "    <style>\n",
    "        #notebook { padding-top:0px !important; }\n",
    "        .container { width:100% !important; }\n",
    "        .end_space { min-height:0px !important; }\n",
    "        div.output_subarea.jupyter-widgets-view { max-width: 100%}\n",
    "    </style>\n",
    "    \n",
    "    \"\"\"\n",
    "))"
   ]
  },
  {
   "cell_type": "code",
   "execution_count": 1,
   "metadata": {},
   "outputs": [
    {
     "ename": "NameError",
     "evalue": "name 'jupyter_notebook_url' is not defined",
     "output_type": "error",
     "traceback": [
      "\u001b[1;31m---------------------------------------------------------------------------\u001b[0m",
      "\u001b[1;31mNameError\u001b[0m                                 Traceback (most recent call last)",
      "\u001b[1;32m~\\AppData\\Local\\Temp/ipykernel_40792/1344567594.py\u001b[0m in \u001b[0;36m<module>\u001b[1;34m\u001b[0m\n\u001b[0;32m      5\u001b[0m \u001b[1;32mfrom\u001b[0m \u001b[0mseeq\u001b[0m\u001b[1;33m.\u001b[0m\u001b[0maddons\u001b[0m\u001b[1;33m.\u001b[0m\u001b[0mplot_curve\u001b[0m\u001b[1;33m.\u001b[0m\u001b[0m_add_on_main\u001b[0m \u001b[1;32mimport\u001b[0m \u001b[0mPlotCurve\u001b[0m\u001b[1;33m\u001b[0m\u001b[1;33m\u001b[0m\u001b[0m\n\u001b[0;32m      6\u001b[0m \u001b[1;33m\u001b[0m\u001b[0m\n\u001b[1;32m----> 7\u001b[1;33m \u001b[0mparsed_url\u001b[0m \u001b[1;33m=\u001b[0m \u001b[0murlparse\u001b[0m\u001b[1;33m(\u001b[0m\u001b[0mjupyter_notebook_url\u001b[0m\u001b[1;33m)\u001b[0m\u001b[1;33m\u001b[0m\u001b[1;33m\u001b[0m\u001b[0m\n\u001b[0m\u001b[0;32m      8\u001b[0m \u001b[1;33m\u001b[0m\u001b[0m\n\u001b[0;32m      9\u001b[0m \u001b[1;32mtry\u001b[0m\u001b[1;33m:\u001b[0m\u001b[1;33m\u001b[0m\u001b[1;33m\u001b[0m\u001b[0m\n",
      "\u001b[1;31mNameError\u001b[0m: name 'jupyter_notebook_url' is not defined"
     ]
    }
   ],
   "source": [
    "from seeq import spy\n",
    "from requests.utils import urlparse\n",
    "from IPython.display import clear_output\n",
    "from seeq.addons.plot_curve._add_on_main import PlotCurve\n",
    "import ipyvuetify as vue\n",
    "\n",
    "import warnings\n",
    "warnings.simplefilter(action='ignore', category=FutureWarning)\n",
    "    \n",
    "parsed_url = urlparse(jupyter_notebook_url)\n",
    "\n",
    "try:\n",
    "    workbook_id = [uuid for uuid in parsed_url.query.split('&') if 'workbook' in uuid][0].strip('workbookId=')\n",
    "    worksheet_id = [uuid for uuid in parsed_url.query.split('&') if 'worksheet' in uuid][0].strip('worksheetId=')\n",
    "except IndexError:\n",
    "    print(IndexError)\n",
    "    workbook_id = None\n",
    "    worksheet_id = None\n"
   ]
  },
  {
   "cell_type": "code",
   "execution_count": null,
   "metadata": {},
   "outputs": [],
   "source": [
    "import ipyvuetify as vue\n",
    "container = vue.Container(\n",
    "    children=[\n",
    "        vue.Container(children=['Please Wait While Plot Curve Loads']),\n",
    "        vue.ProgressLinear(indeterminate=True, height=10, color='#008a00')\n",
    "    ]\n",
    ")\n",
    "display(container)\n",
    "\n",
    "ui = PlotCurve(workbook = workbook_id, worksheet = worksheet_id)\n",
    "interface = ui.run()\n",
    "clear_output(wait=False)\n",
    "interface"
   ]
  }
 ],
 "metadata": {
  "kernelspec": {
   "display_name": "Python 3 (ipykernel)",
   "language": "python",
   "name": "python3"
  },
  "language_info": {
   "codemirror_mode": {
    "name": "ipython",
    "version": 3
   },
   "file_extension": ".py",
   "mimetype": "text/x-python",
   "name": "python",
   "nbconvert_exporter": "python",
   "pygments_lexer": "ipython3",
   "version": "3.7.8"
  }
 },
 "nbformat": 4,
 "nbformat_minor": 1
}
